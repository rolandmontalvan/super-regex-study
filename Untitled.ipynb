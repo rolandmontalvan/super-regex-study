{
 "cells": [
  {
   "cell_type": "markdown",
   "id": "appointed-emphasis",
   "metadata": {},
   "source": [
    "<h1>Extract Data From String</h1>\n",
    "\n",
    "<h3>Using Python, Pandas and RegEx</h3>\n",
    "<h4>Step 1 - Load the data</h4>\n"
   ]
  },
  {
   "cell_type": "code",
   "execution_count": 30,
   "id": "verbal-novelty",
   "metadata": {},
   "outputs": [],
   "source": [
    "#import modules and libraries\n",
    "import pandas as pd\n",
    "import re"
   ]
  },
  {
   "cell_type": "code",
   "execution_count": 31,
   "id": "trying-minimum",
   "metadata": {},
   "outputs": [],
   "source": [
    "#read data\n",
    "data = pd.read_csv('./assets/relat_exemplo.csv').set_index('id')"
   ]
  },
  {
   "cell_type": "markdown",
   "id": "compliant-atmosphere",
   "metadata": {},
   "source": [
    "<h4>Step 2 - Make an extra column for date</h4>"
   ]
  },
  {
   "cell_type": "code",
   "execution_count": 32,
   "id": "colonial-penalty",
   "metadata": {},
   "outputs": [],
   "source": [
    "data['date']=None"
   ]
  },
  {
   "cell_type": "markdown",
   "id": "noted-intake",
   "metadata": {},
   "source": [
    "<h4>Step 3 - Set indexes</h4>"
   ]
  },
  {
   "cell_type": "code",
   "execution_count": 33,
   "id": "alleged-aging",
   "metadata": {},
   "outputs": [],
   "source": [
    "index_description = data.columns.get_loc('description')\n",
    "index_date = data.columns.get_loc('date')"
   ]
  },
  {
   "cell_type": "markdown",
   "id": "played-verse",
   "metadata": {},
   "source": [
    "<h4>Step 4 - Define the pattern of the Date</h4>"
   ]
  },
  {
   "cell_type": "code",
   "execution_count": 34,
   "id": "deluxe-obligation",
   "metadata": {},
   "outputs": [],
   "source": [
    "date_pattern = r'([0-9]{2}\\/[0-9]{2}\\/[0-9]{4})'"
   ]
  },
  {
   "cell_type": "markdown",
   "id": "copyrighted-folks",
   "metadata": {},
   "source": [
    "<h4>Step 5 - Looking for Date in Dataframe</h4>"
   ]
  },
  {
   "cell_type": "code",
   "execution_count": 35,
   "id": "stuffed-counter",
   "metadata": {},
   "outputs": [],
   "source": [
    "for row in range(0, len(data)):\n",
    "    date= re.search(date_pattern, data.iat[row, index_description]).group()\n",
    "    data.iat[row, index_date] = date"
   ]
  },
  {
   "cell_type": "code",
   "execution_count": 36,
   "id": "magnetic-prevention",
   "metadata": {},
   "outputs": [
    {
     "data": {
      "text/html": [
       "<div>\n",
       "<style scoped>\n",
       "    .dataframe tbody tr th:only-of-type {\n",
       "        vertical-align: middle;\n",
       "    }\n",
       "\n",
       "    .dataframe tbody tr th {\n",
       "        vertical-align: top;\n",
       "    }\n",
       "\n",
       "    .dataframe thead th {\n",
       "        text-align: right;\n",
       "    }\n",
       "</style>\n",
       "<table border=\"1\" class=\"dataframe\">\n",
       "  <thead>\n",
       "    <tr style=\"text-align: right;\">\n",
       "      <th></th>\n",
       "      <th>description</th>\n",
       "      <th>value</th>\n",
       "      <th>date</th>\n",
       "    </tr>\n",
       "    <tr>\n",
       "      <th>id</th>\n",
       "      <th></th>\n",
       "      <th></th>\n",
       "      <th></th>\n",
       "    </tr>\n",
       "  </thead>\n",
       "  <tbody>\n",
       "    <tr>\n",
       "      <th>0</th>\n",
       "      <td>Made payment on 17/02/2021</td>\n",
       "      <td>2000</td>\n",
       "      <td>17/02/2021</td>\n",
       "    </tr>\n",
       "    <tr>\n",
       "      <th>1</th>\n",
       "      <td>study on 20/03/2021</td>\n",
       "      <td>0</td>\n",
       "      <td>20/03/2021</td>\n",
       "    </tr>\n",
       "    <tr>\n",
       "      <th>2</th>\n",
       "      <td>Presentation on 02/10/2021</td>\n",
       "      <td>1400</td>\n",
       "      <td>02/10/2021</td>\n",
       "    </tr>\n",
       "    <tr>\n",
       "      <th>3</th>\n",
       "      <td>Made payment on 26/09/2021</td>\n",
       "      <td>140</td>\n",
       "      <td>26/09/2021</td>\n",
       "    </tr>\n",
       "  </tbody>\n",
       "</table>\n",
       "</div>"
      ],
      "text/plain": [
       "                   description  value        date\n",
       "id                                               \n",
       "0   Made payment on 17/02/2021   2000  17/02/2021\n",
       "1          study on 20/03/2021      0  20/03/2021\n",
       "2   Presentation on 02/10/2021   1400  02/10/2021\n",
       "3   Made payment on 26/09/2021    140  26/09/2021"
      ]
     },
     "execution_count": 36,
     "metadata": {},
     "output_type": "execute_result"
    }
   ],
   "source": [
    "data"
   ]
  },
  {
   "cell_type": "markdown",
   "id": "cardiovascular-inclusion",
   "metadata": {},
   "source": [
    "<h4>Step 6 - Re-arrenge columns in Dataframe</h4>"
   ]
  },
  {
   "cell_type": "code",
   "execution_count": 39,
   "id": "effective-directory",
   "metadata": {},
   "outputs": [
    {
     "data": {
      "text/html": [
       "<div>\n",
       "<style scoped>\n",
       "    .dataframe tbody tr th:only-of-type {\n",
       "        vertical-align: middle;\n",
       "    }\n",
       "\n",
       "    .dataframe tbody tr th {\n",
       "        vertical-align: top;\n",
       "    }\n",
       "\n",
       "    .dataframe thead th {\n",
       "        text-align: right;\n",
       "    }\n",
       "</style>\n",
       "<table border=\"1\" class=\"dataframe\">\n",
       "  <thead>\n",
       "    <tr style=\"text-align: right;\">\n",
       "      <th></th>\n",
       "      <th>date</th>\n",
       "      <th>description</th>\n",
       "      <th>value</th>\n",
       "    </tr>\n",
       "    <tr>\n",
       "      <th>id</th>\n",
       "      <th></th>\n",
       "      <th></th>\n",
       "      <th></th>\n",
       "    </tr>\n",
       "  </thead>\n",
       "  <tbody>\n",
       "    <tr>\n",
       "      <th>0</th>\n",
       "      <td>17/02/2021</td>\n",
       "      <td>Made payment on 17/02/2021</td>\n",
       "      <td>2000</td>\n",
       "    </tr>\n",
       "    <tr>\n",
       "      <th>1</th>\n",
       "      <td>20/03/2021</td>\n",
       "      <td>study on 20/03/2021</td>\n",
       "      <td>0</td>\n",
       "    </tr>\n",
       "    <tr>\n",
       "      <th>2</th>\n",
       "      <td>02/10/2021</td>\n",
       "      <td>Presentation on 02/10/2021</td>\n",
       "      <td>1400</td>\n",
       "    </tr>\n",
       "    <tr>\n",
       "      <th>3</th>\n",
       "      <td>26/09/2021</td>\n",
       "      <td>Made payment on 26/09/2021</td>\n",
       "      <td>140</td>\n",
       "    </tr>\n",
       "  </tbody>\n",
       "</table>\n",
       "</div>"
      ],
      "text/plain": [
       "          date                 description  value\n",
       "id                                               \n",
       "0   17/02/2021  Made payment on 17/02/2021   2000\n",
       "1   20/03/2021         study on 20/03/2021      0\n",
       "2   02/10/2021  Presentation on 02/10/2021   1400\n",
       "3   26/09/2021  Made payment on 26/09/2021    140"
      ]
     },
     "execution_count": 39,
     "metadata": {},
     "output_type": "execute_result"
    }
   ],
   "source": [
    "data=data[['date','description','value']]\n",
    "data"
   ]
  },
  {
   "cell_type": "code",
   "execution_count": null,
   "id": "lonely-announcement",
   "metadata": {},
   "outputs": [],
   "source": [
    "nova =30"
   ]
  },
  {
   "cell_type": "code",
   "execution_count": null,
   "id": "specified-spouse",
   "metadata": {},
   "outputs": [],
   "source": []
  }
 ],
 "metadata": {
  "kernelspec": {
   "display_name": "Python 3",
   "language": "python",
   "name": "python3"
  },
  "language_info": {
   "codemirror_mode": {
    "name": "ipython",
    "version": 3
   },
   "file_extension": ".py",
   "mimetype": "text/x-python",
   "name": "python",
   "nbconvert_exporter": "python",
   "pygments_lexer": "ipython3",
   "version": "3.8.5"
  }
 },
 "nbformat": 4,
 "nbformat_minor": 5
}