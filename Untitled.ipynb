{
 "cells": [
  {
   "cell_type": "markdown",
   "id": "announced-familiar",
   "metadata": {},
   "source": [
    "<h1>Extract Data From String</h1>\n",
    "\n",
    "<h3>Using Python, Pandas and RegEx</h3>\n",
    "<h4>Step 1 - Load the data</h4>\n"
   ]
  },
  {
   "cell_type": "code",
   "execution_count": 10,
   "id": "directed-croatia",
   "metadata": {},
   "outputs": [],
   "source": [
    "#import modules and libraries\n",
    "import pandas as pd\n",
    "import re"
   ]
  },
  {
   "cell_type": "code",
   "execution_count": 11,
   "id": "continent-license",
   "metadata": {},
   "outputs": [],
   "source": [
    "#read data\n",
    "data = pd.read_csv('./assets/relat_exemplo.csv').set_index('id')"
   ]
  },
  {
   "cell_type": "markdown",
   "id": "hawaiian-pillow",
   "metadata": {},
   "source": [
    "<h4>Step 2 - Make an extra column for date</h4>"
   ]
  },
  {
   "cell_type": "code",
   "execution_count": 12,
   "id": "limiting-pattern",
   "metadata": {},
   "outputs": [],
   "source": [
    "data['Date']=None"
   ]
  },
  {
   "cell_type": "markdown",
   "id": "unsigned-relay",
   "metadata": {},
   "source": [
    "<h4>Step 3 - Set indexes</h4>"
   ]
  },
  {
   "cell_type": "code",
   "execution_count": 13,
   "id": "literary-nursery",
   "metadata": {},
   "outputs": [],
   "source": [
    "index_description = data.columns.get_loc('description')\n",
    "index_date = data.columns.get_loc('Date')"
   ]
  },
  {
   "cell_type": "markdown",
   "id": "liable-monitor",
   "metadata": {},
   "source": [
    "<h4>Step 4 - Define the pattern of the Date</h4>"
   ]
  },
  {
   "cell_type": "code",
   "execution_count": 14,
   "id": "persistent-model",
   "metadata": {},
   "outputs": [],
   "source": [
    "date_pattern = r'([0-9]{2}\\/[0-9]{2}\\/[0-9]{4})'"
   ]
  },
  {
   "cell_type": "markdown",
   "id": "bound-apartment",
   "metadata": {},
   "source": [
    "<h4>Step 5 - Looking for Date in Dataframe</h4>"
   ]
  },
  {
   "cell_type": "code",
   "execution_count": 20,
   "id": "weird-cookbook",
   "metadata": {},
   "outputs": [],
   "source": [
    "for row in range(0, len(data)):\n",
    "    date= re.search(date_pattern, data.iat[row, index_description]).group()\n",
    "    data.iat[row, index_date] = date"
   ]
  },
  {
   "cell_type": "code",
   "execution_count": 17,
   "id": "acoustic-determination",
   "metadata": {},
   "outputs": [
    {
     "data": {
      "text/html": [
       "<div>\n",
       "<style scoped>\n",
       "    .dataframe tbody tr th:only-of-type {\n",
       "        vertical-align: middle;\n",
       "    }\n",
       "\n",
       "    .dataframe tbody tr th {\n",
       "        vertical-align: top;\n",
       "    }\n",
       "\n",
       "    .dataframe thead th {\n",
       "        text-align: right;\n",
       "    }\n",
       "</style>\n",
       "<table border=\"1\" class=\"dataframe\">\n",
       "  <thead>\n",
       "    <tr style=\"text-align: right;\">\n",
       "      <th></th>\n",
       "      <th>description</th>\n",
       "      <th>value</th>\n",
       "      <th>Date</th>\n",
       "    </tr>\n",
       "    <tr>\n",
       "      <th>id</th>\n",
       "      <th></th>\n",
       "      <th></th>\n",
       "      <th></th>\n",
       "    </tr>\n",
       "  </thead>\n",
       "  <tbody>\n",
       "    <tr>\n",
       "      <th>0</th>\n",
       "      <td>Made payment on 17/02/2021</td>\n",
       "      <td>2000</td>\n",
       "      <td>&lt;re.Match object; span=(16, 26), match='17/02/...</td>\n",
       "    </tr>\n",
       "    <tr>\n",
       "      <th>1</th>\n",
       "      <td>study on 20/03/2021</td>\n",
       "      <td>0</td>\n",
       "      <td>&lt;re.Match object; span=(9, 19), match='20/03/2...</td>\n",
       "    </tr>\n",
       "    <tr>\n",
       "      <th>2</th>\n",
       "      <td>Presentation on 02/10/2021</td>\n",
       "      <td>1400</td>\n",
       "      <td>&lt;re.Match object; span=(16, 26), match='02/10/...</td>\n",
       "    </tr>\n",
       "    <tr>\n",
       "      <th>3</th>\n",
       "      <td>Made payment on 26/09/2021</td>\n",
       "      <td>140</td>\n",
       "      <td>&lt;re.Match object; span=(16, 26), match='26/09/...</td>\n",
       "    </tr>\n",
       "  </tbody>\n",
       "</table>\n",
       "</div>"
      ],
      "text/plain": [
       "                   description  value  \\\n",
       "id                                      \n",
       "0   Made payment on 17/02/2021   2000   \n",
       "1          study on 20/03/2021      0   \n",
       "2   Presentation on 02/10/2021   1400   \n",
       "3   Made payment on 26/09/2021    140   \n",
       "\n",
       "                                                 Date  \n",
       "id                                                     \n",
       "0   <re.Match object; span=(16, 26), match='17/02/...  \n",
       "1   <re.Match object; span=(9, 19), match='20/03/2...  \n",
       "2   <re.Match object; span=(16, 26), match='02/10/...  \n",
       "3   <re.Match object; span=(16, 26), match='26/09/...  "
      ]
     },
     "execution_count": 17,
     "metadata": {},
     "output_type": "execute_result"
    }
   ],
   "source": [
    "data"
   ]
  },
  {
   "cell_type": "code",
   "execution_count": null,
   "id": "meaningful-stress",
   "metadata": {},
   "outputs": [],
   "source": []
  }
 ],
 "metadata": {
  "kernelspec": {
   "display_name": "Python 3",
   "language": "python",
   "name": "python3"
  },
  "language_info": {
   "codemirror_mode": {
    "name": "ipython",
    "version": 3
   },
   "file_extension": ".py",
   "mimetype": "text/x-python",
   "name": "python",
   "nbconvert_exporter": "python",
   "pygments_lexer": "ipython3",
   "version": "3.8.5"
  }
 },
 "nbformat": 4,
 "nbformat_minor": 5
}
